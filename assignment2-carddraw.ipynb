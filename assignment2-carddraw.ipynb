{
 "cells": [
  {
   "cell_type": "markdown",
   "metadata": {},
   "source": [
    "# **Deck of Cards**\n",
    "\n",
    "This program uses the requests library to shuffle a new deck of cards from the API https://deckofcardsapi.com/ \n",
    "\n",
    "-   5 cards are drawn from the deck. \n",
    "-   The program then checks for pairs, triples, straights and flushes.\n"
   ]
  },
  {
   "cell_type": "code",
   "execution_count": 1,
   "metadata": {},
   "outputs": [],
   "source": [
    "# Import Libraries:\n",
    "\n",
    "import requests # for making HTTP requests to the API server and getting the data. ~\n",
    "from collections import Counter # for counting the frequency of elements in a list\n",
    "import json # for parsing json data"
   ]
  },
  {
   "cell_type": "markdown",
   "metadata": {},
   "source": [
    "### **1. Shuffle cards:**\n",
    "\n",
    "A get request was sent to the server via the API to shuffle a new deck of cards. "
   ]
  },
  {
   "cell_type": "code",
   "execution_count": 2,
   "metadata": {},
   "outputs": [
    {
     "name": "stdout",
     "output_type": "stream",
     "text": [
      "Deck ID: jp9cfq6kz4mt\n"
     ]
    }
   ],
   "source": [
    "# Shuffle deck and get deck_id.\n",
    "deck = requests.get(\"https://deckofcardsapi.com/api/deck/new/shuffle/?deck_count=1\").json() # sending get request to the server \n",
    "deck_id = deck[\"deck_id\"]\n",
    "print(f\"Deck ID: {deck_id}\")"
   ]
  },
  {
   "cell_type": "markdown",
   "metadata": {},
   "source": [
    "### **2. Draw five cards:**\n",
    "\n",
    "The count variable defines how many cards to draw from the deck. "
   ]
  },
  {
   "cell_type": "code",
   "execution_count": 3,
   "metadata": {},
   "outputs": [
    {
     "name": "stdout",
     "output_type": "stream",
     "text": [
      "{'success': True, 'deck_id': '46ahmhpdfes1', 'cards': [{'code': 'AC', 'image': 'https://deckofcardsapi.com/static/img/AC.png', 'images': {'svg': 'https://deckofcardsapi.com/static/img/AC.svg', 'png': 'https://deckofcardsapi.com/static/img/AC.png'}, 'value': 'ACE', 'suit': 'CLUBS'}, {'code': '9H', 'image': 'https://deckofcardsapi.com/static/img/9H.png', 'images': {'svg': 'https://deckofcardsapi.com/static/img/9H.svg', 'png': 'https://deckofcardsapi.com/static/img/9H.png'}, 'value': '9', 'suit': 'HEARTS'}, {'code': '2S', 'image': 'https://deckofcardsapi.com/static/img/2S.png', 'images': {'svg': 'https://deckofcardsapi.com/static/img/2S.svg', 'png': 'https://deckofcardsapi.com/static/img/2S.png'}, 'value': '2', 'suit': 'SPADES'}, {'code': '6D', 'image': 'https://deckofcardsapi.com/static/img/6D.png', 'images': {'svg': 'https://deckofcardsapi.com/static/img/6D.svg', 'png': 'https://deckofcardsapi.com/static/img/6D.png'}, 'value': '6', 'suit': 'DIAMONDS'}, {'code': 'AS', 'image': 'https://deckofcardsapi.com/static/img/AS.png', 'images': {'svg': 'https://deckofcardsapi.com/static/img/AS.svg', 'png': 'https://deckofcardsapi.com/static/img/AS.png'}, 'value': 'ACE', 'suit': 'SPADES'}], 'remaining': 47}\n"
     ]
    }
   ],
   "source": [
    "import requests\n",
    "\n",
    "response = requests.get(\"https://deckofcardsapi.com/api/deck/new/draw/?count=5\")\n",
    "data = response.json() # getting data in json format\n",
    "\n",
    "print(data)"
   ]
  },
  {
   "cell_type": "markdown",
   "metadata": {},
   "source": [
    "-   Success indicates that the request was successful. \n",
    "-   deck_id: to identify the deck\n",
    "-   cards: a list of dictionaries, each represening a drawn card. \n",
    "-   remaining: The number of cards left in the deck. "
   ]
  },
  {
   "cell_type": "code",
   "execution_count": 4,
   "metadata": {},
   "outputs": [
    {
     "name": "stdout",
     "output_type": "stream",
     "text": [
      "\n",
      "\n",
      "\u001b[1mYour drawn cards:\u001b[0m\n",
      "ACE CLUBS\n",
      "9 HEARTS\n",
      "2 SPADES\n",
      "6 DIAMONDS\n",
      "ACE SPADES\n"
     ]
    }
   ],
   "source": [
    "# Print drawn cards and append values and suits to lists.\n",
    "\n",
    "values = [] # list to store the values of the cards\n",
    "suits = []  # list to store the suits of the cards\n",
    "print('\\n')\n",
    "print('\\033[1mYour drawn cards:\\033[0m')\n",
    "\n",
    "\n",
    "# Loop through the cards and add the values and suits to the lists.\n",
    "\n",
    "for card in data[\"cards\"]:\n",
    "    print(card[\"value\"], card[\"suit\"]) \n",
    "    values.append(card[\"value\"])\n",
    "    suits.append(card[\"suit\"])"
   ]
  },
  {
   "cell_type": "markdown",
   "metadata": {},
   "source": [
    "###  **3. Check for pair, triple, straight or flush:**"
   ]
  },
  {
   "cell_type": "code",
   "execution_count": null,
   "metadata": {},
   "outputs": [
    {
     "name": "stdout",
     "output_type": "stream",
     "text": [
      "\n",
      " Congratulations! You have a pair!\n"
     ]
    }
   ],
   "source": [
    "# Check for pairs, triples, or flush\n",
    "counts = Counter(values)    \n",
    "if 2 in counts.values():                                  \n",
    "    print('\\n Congratulations! You have a pair!')\n",
    "if 3 in counts.values():                                  \n",
    "    print('\\n Congratulations! You have a triple!')\n",
    "if len(set(suits)) == 1:                                  \n",
    "        print('\\n Congratulations! You have a flush!')\n",
    "\n",
    "# Check for a straight\n",
    "facecard_values = {\"ACE\": 14, \"KING\": 13, \"QUEEN\": 12, \"JACK\": 11}\n",
    "numeric_values = sorted([facecard_values.get(card, int(card)) if card.isdigit() else facecard_values[v] for v in values])      # dictionary of face card valueso numeric values for checking straights. sorted function to sort the values\n",
    "if numeric_values == list(range(numeric_values[0], numeric_values[0] + 5)):\n",
    "    print(\"\\n Congratulations! You have a straight!\")"
   ]
  },
  {
   "cell_type": "markdown",
   "metadata": {},
   "source": [
    "-   counter: The counter class from the collections module is used to count how many times each card value appears. \n",
    "-   ```counts.values()```: creates a dictionary that counts how many time a card appears. \n",
    "-   ```if 2 in counts.values()```: check if any value appears twice indicating a pair. \n",
    "-   ```if 3 in counts.value()```: check if any value appears three times indicating a triple. \n",
    "-   ```if len(set(suits)) == 1```: check that they are all the same suit indicating a flush. \n",
    "-   ```set(suits)```: set used to store multiple items in a single variable. removes duplicates. if only one suit remains all cards are of the same suit. \n",
    "\n",
    "-   \n"
   ]
  },
  {
   "cell_type": "code",
   "execution_count": null,
   "metadata": {},
   "outputs": [],
   "source": [
    "# Check for a straight\n",
    "facecard_values = {\"ACE\": 14, \"KING\": 13, \"QUEEN\": 12, \"JACK\": 11}\n",
    "\n",
    "# Convert card values to numbers, sort, and remove duplicates\n",
    "numeric_values = sorted(facecard_values.get(card, int(card)) if card.isdigit() else facecard_values[card] for card in values) # if else statement to check if the card is a face card.\n",
    "\n",
    "# Check if the numbers form a consecutive sequence\n",
    "if numeric_values == list(range(numeric_values[0], numeric_values[0] + 5)): # if statement to check if the values are in a sequence so as to form a straight. \n",
    "    print(\"\\n Congratulations! You have a straight!\")\n",
    "\n",
    "\n",
    " # dictionary of face card valueso numeric values for checking straights. sorted function to sort the value. "
   ]
  },
  {
   "cell_type": "markdown",
   "metadata": {},
   "source": [
    "\n",
    "\n",
    "### **End**\n",
    "\n",
    "***"
   ]
  },
  {
   "cell_type": "markdown",
   "metadata": {},
   "source": [
    "#### References:\n",
    "\n",
    "-   https://www.w3schools.com/PYTHON/ref_requests_get.asp\n",
    "-   https://stackoverflow.com/questions/16877422/whats-the-best-way-to-parse-a-json-response-from-the-requests-library\n",
    "-   https://www.geeksforgeeks.org/python-collections-module/\n",
    "-   https://www.geeksforgeeks.org/python-list-append-method/\n"
   ]
  }
 ],
 "metadata": {
  "kernelspec": {
   "display_name": "base",
   "language": "python",
   "name": "python3"
  },
  "language_info": {
   "codemirror_mode": {
    "name": "ipython",
    "version": 3
   },
   "file_extension": ".py",
   "mimetype": "text/x-python",
   "name": "python",
   "nbconvert_exporter": "python",
   "pygments_lexer": "ipython3",
   "version": "3.11.7"
  }
 },
 "nbformat": 4,
 "nbformat_minor": 2
}
