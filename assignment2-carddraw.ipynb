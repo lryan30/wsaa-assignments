{
 "cells": [
  {
   "cell_type": "markdown",
   "metadata": {},
   "source": [
    "# **Deck of Cards**\n",
    "\n",
    "This program uses the requests library to shuffle a new deck of cards from the API https://deckofcardsapi.com/.\n",
    "\n",
    "-  *5 cards are drawn from the deck.* \n",
    "-   *The program then checks for pairs, triples, straights and flushes.*\n"
   ]
  },
  {
   "cell_type": "code",
   "execution_count": 1,
   "metadata": {},
   "outputs": [],
   "source": [
    "# Import Libraries:\n",
    "\n",
    "import requests                    # for making HTTP requests to the API server and getting the data. \n",
    "from collections import Counter    # for counting the frequency of elements in a list\n",
    "import json                        # for parsing json data"
   ]
  },
  {
   "cell_type": "markdown",
   "metadata": {},
   "source": [
    "### **1. Shuffle cards:**\n",
    "\n",
    "*A get request sent to the server via the API to shuffle a new deck of cards*. "
   ]
  },
  {
   "cell_type": "code",
   "execution_count": 2,
   "metadata": {},
   "outputs": [
    {
     "name": "stdout",
     "output_type": "stream",
     "text": [
      "\u001b[1mDeck ID:\u001b[0m zrxelxccxvut\n"
     ]
    }
   ],
   "source": [
    "# Shuffle deck and get deck_id:\n",
    "\n",
    "deck = requests.get(\"https://deckofcardsapi.com/api/deck/new/shuffle/?deck_count=1\").json() \n",
    "deck_id = deck[\"deck_id\"]\n",
    "print(f\"\\033[1mDeck ID:\\033[0m {deck_id}\") \n"
   ]
  },
  {
   "cell_type": "markdown",
   "metadata": {},
   "source": [
    "### **2. Draw five cards:**\n",
    "\n",
    "*The count variable defines how many cards to draw from the deck.* "
   ]
  },
  {
   "cell_type": "code",
   "execution_count": 3,
   "metadata": {},
   "outputs": [
    {
     "name": "stdout",
     "output_type": "stream",
     "text": [
      "{'success': True, 'deck_id': 'zrxelxccxvut', 'cards': [{'code': 'QD', 'image': 'https://deckofcardsapi.com/static/img/QD.png', 'images': {'svg': 'https://deckofcardsapi.com/static/img/QD.svg', 'png': 'https://deckofcardsapi.com/static/img/QD.png'}, 'value': 'QUEEN', 'suit': 'DIAMONDS'}, {'code': '4S', 'image': 'https://deckofcardsapi.com/static/img/4S.png', 'images': {'svg': 'https://deckofcardsapi.com/static/img/4S.svg', 'png': 'https://deckofcardsapi.com/static/img/4S.png'}, 'value': '4', 'suit': 'SPADES'}, {'code': '4H', 'image': 'https://deckofcardsapi.com/static/img/4H.png', 'images': {'svg': 'https://deckofcardsapi.com/static/img/4H.svg', 'png': 'https://deckofcardsapi.com/static/img/4H.png'}, 'value': '4', 'suit': 'HEARTS'}, {'code': '2D', 'image': 'https://deckofcardsapi.com/static/img/2D.png', 'images': {'svg': 'https://deckofcardsapi.com/static/img/2D.svg', 'png': 'https://deckofcardsapi.com/static/img/2D.png'}, 'value': '2', 'suit': 'DIAMONDS'}, {'code': '6D', 'image': 'https://deckofcardsapi.com/static/img/6D.png', 'images': {'svg': 'https://deckofcardsapi.com/static/img/6D.svg', 'png': 'https://deckofcardsapi.com/static/img/6D.png'}, 'value': '6', 'suit': 'DIAMONDS'}], 'remaining': 47}\n"
     ]
    }
   ],
   "source": [
    "# Draw 5 cards from the deck.\n",
    "response = requests.get(f\"https://deckofcardsapi.com/api/deck/{deck_id}/draw/?count=5\")\n",
    "data = response.json() # getting data in json format\n",
    "print(data)"
   ]
  },
  {
   "cell_type": "markdown",
   "metadata": {},
   "source": [
    "-   **success:True**    *indicates that the request was successful.*\n",
    "-   **deck_id:**     *to identify the deck*\n",
    "-   **cards:**     *a list of dictionaries, each representing a drawn card.* \n",
    "-   **remaining**    *The number of cards left in the deck.*"
   ]
  },
  {
   "cell_type": "code",
   "execution_count": 4,
   "metadata": {},
   "outputs": [
    {
     "name": "stdout",
     "output_type": "stream",
     "text": [
      "\n",
      "\n",
      "\u001b[1mYour drawn cards:\u001b[0m\n",
      "QUEEN DIAMONDS\n",
      "4 SPADES\n",
      "4 HEARTS\n",
      "2 DIAMONDS\n",
      "6 DIAMONDS\n"
     ]
    }
   ],
   "source": [
    "# Print drawn cards and append values and suits to lists.\n",
    "\n",
    "values = [] # list to store the values of the cards\n",
    "suits = []  # list to store the suits of the cards\n",
    "print('\\n')\n",
    "print('\\033[1mYour drawn cards:\\033[0m')\n",
    "\n",
    "\n",
    "# Loop through the cards and add the values and suits to the lists.\n",
    "\n",
    "for card in data[\"cards\"]:\n",
    "    print(card[\"value\"], card[\"suit\"]) # printing the value and suit of the card\n",
    "    values.append(card[\"value\"]) # appending the value of the card to the list\n",
    "    suits.append(card[\"suit\"])   # appending the suit of the card to the list\n",
    "\n"
   ]
  },
  {
   "cell_type": "markdown",
   "metadata": {},
   "source": [
    "###  **3. Check for pair, triple, or flush:**"
   ]
  },
  {
   "cell_type": "code",
   "execution_count": 5,
   "metadata": {},
   "outputs": [
    {
     "name": "stdout",
     "output_type": "stream",
     "text": [
      "\n",
      " Congratulations! You have a pair :)\n"
     ]
    }
   ],
   "source": [
    "# Check for pairs, triples, or flush\n",
    "counts = Counter(values)    \n",
    "if 2 in counts.values():                                  \n",
    "    print('\\n Congratulations! You have a pair :)')\n",
    "if 3 in counts.values():                                  \n",
    "    print('\\n Congratulations :) You have a triple :)')\n",
    "if len(set(suits)) == 1:                                  \n",
    "        print('\\n Congratulations :) You have a flush :)')\n"
   ]
  },
  {
   "cell_type": "markdown",
   "metadata": {},
   "source": [
    "-   ```counter``` *The counter class is used to count how many times each card value appears.* \n",
    "-   ```counts.values()``` *gives a list of how many times a card appears*. \n",
    "-   ```if 2 in counts.values()``` *check if any value appears twice indicating a *pair*.*\n",
    "-   ```if 3 in counts.value()``` *check if any value appears three times indicating a *triple*.* \n",
    "-   ```if len(set(suits)) == 1``` *check if they are all the same suit indicating a flush.* \n",
    "-   ```set(suits)``` *removes duplicates. if only one suit remains all cards are of the same suit.* \n",
    "\n"
   ]
  },
  {
   "cell_type": "markdown",
   "metadata": {},
   "source": [
    "### **4. Check for straight:**"
   ]
  },
  {
   "cell_type": "code",
   "execution_count": 6,
   "metadata": {},
   "outputs": [
    {
     "name": "stdout",
     "output_type": "stream",
     "text": [
      "\n",
      "Sorry! You do not have a straight, Try again :)\n"
     ]
    }
   ],
   "source": [
    "# Check for straight:\n",
    "def is_straight(values):      \n",
    "    value_order = ['2', '3', '4', '5', '6', '7', '8', '9', '10', 'JACK', 'QUEEN', 'KING', 'ACE']\n",
    "    card_values = [value_order.index(card) for card in values] \n",
    "    # print(f\"Card values: {card_values}\") \n",
    "    card_values.sort() \n",
    "    return all(                                                                 # function to check if all cards are in a straight line \n",
    "        card_values[card_position] + 1 == card_values[card_position + 1]        # check if each card is followed by next card in the list\n",
    "        for card_position in range(len(card_values) - 1)                        # loop from first to second last card to compare each card with the one after it\n",
    "        )\n",
    "\n",
    "\n",
    "if is_straight(values):\n",
    "    print(\"\\nCongratulations! You have a straight :)\")\n",
    "else:\n",
    "    print(\"\\nSorry! You do not have a straight, Try again :)\")"
   ]
  },
  {
   "cell_type": "markdown",
   "metadata": {},
   "source": [
    "-  ```def is_straight()``` *function to check if list of card values form a straight. (example: 5,6,7,8,9)*\n",
    "-    ```value_order``` *lists cards from lowest to highest*\n",
    "-   ```card_values``` *list of drawn card values, converted into numbers by finding each cards position in value_order() using ```index()```*\n",
    "-    ```card_values.sort()``` *sorts card values in ascending order*\n",
    "-   ```return all()``` *checks if each card is 1 higher than the previous card. if all cards are one above the other, it returns true.* \n",
    "-   *If each value is 1 higher than the last --> Straight* \n",
    "\n",
    "\n"
   ]
  },
  {
   "cell_type": "markdown",
   "metadata": {},
   "source": [
    "\n",
    "\n",
    "### **End**\n",
    "\n",
    "***"
   ]
  },
  {
   "cell_type": "markdown",
   "metadata": {},
   "source": [
    "#### *References:*\n",
    "\n",
    "-   https://www.w3schools.com/PYTHON/ref_requests_get.asp\n",
    "-   https://stackoverflow.com/questions/16877422/whats-the-best-way-to-parse-a-json-response-from-the-requests-library\n",
    "-   https://www.geeksforgeeks.org/python-collections-module/\n",
    "-   https://www.geeksforgeeks.org/python-list-append-method/\n",
    "-   https://www.w3schools.com/python/ref_list_sort.asp\n",
    "-   https://www.w3schools.com/python/ref_list_index.asp\n",
    "-   https://www.w3schools.com/python/ref_func_all.asp\n"
   ]
  }
 ],
 "metadata": {
  "kernelspec": {
   "display_name": "base",
   "language": "python",
   "name": "python3"
  },
  "language_info": {
   "codemirror_mode": {
    "name": "ipython",
    "version": 3
   },
   "file_extension": ".py",
   "mimetype": "text/x-python",
   "name": "python",
   "nbconvert_exporter": "python",
   "pygments_lexer": "ipython3",
   "version": "3.11.7"
  }
 },
 "nbformat": 4,
 "nbformat_minor": 2
}
